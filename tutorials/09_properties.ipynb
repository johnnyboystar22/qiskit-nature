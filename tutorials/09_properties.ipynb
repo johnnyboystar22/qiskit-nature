{
 "cells": [
  {
   "cell_type": "markdown",
   "id": "57eb5237",
   "metadata": {},
   "source": [
    "# Properties - or - Operator Factories\n",
    "\n",
    "Qiskit Nature has various built-in \"properties\". These objects are effectively operator factories, since they allow the programming of operator blueprints based on a minimal set of required information. Some commonly used examples are the `ParticleNumber`, `AngularMomentum` and `Magnetization` properties, all of which take only the system size as their only input, and generate a `SparseLabelOp` of the required size.\n",
    "\n",
    "These properties can be registered in a `problem` instance which will cause them to be evaluated once a ground state and/or excited states of that problem have been found. In the following, we will explain the general concept of how this works."
   ]
  },
  {
   "cell_type": "markdown",
   "id": "51181e65",
   "metadata": {},
   "source": [
    "The `BaseProblem` base class dictates the existence of the `.properties` attribute on any `problem` instance. This attribute is of type `PropertiesContainer` which is an object that can hold at most one instance of any `SparseLabelOpsFactory` (or property class, as we commonly refer to them)."
   ]
  },
  {
   "cell_type": "code",
   "execution_count": 1,
   "id": "133a097e",
   "metadata": {
    "execution": {
     "iopub.execute_input": "2024-02-23T10:25:31.986308Z",
     "iopub.status.busy": "2024-02-23T10:25:31.986110Z",
     "iopub.status.idle": "2024-02-23T10:25:33.206916Z",
     "shell.execute_reply": "2024-02-23T10:25:33.206218Z"
    }
   },
   "outputs": [
    {
     "name": "stdout",
     "output_type": "stream",
     "text": [
      "<qiskit_nature.second_q.problems.properties_container.PropertiesContainer object at 0x7f92ccb76640>\n"
     ]
    }
   ],
   "source": [
    "from qiskit_nature.second_q.problems import BaseProblem\n",
    "\n",
    "dummy_hamiltonian = None\n",
    "\n",
    "base_problem = BaseProblem(dummy_hamiltonian)\n",
    "print(base_problem.properties)"
   ]
  },
  {
   "cell_type": "markdown",
   "id": "3d76c0f7",
   "metadata": {},
   "source": [
    "You can now modify the contents of the `PropertiesContainer` to your desire:"
   ]
  },
  {
   "cell_type": "code",
   "execution_count": 2,
   "id": "fb1d2956",
   "metadata": {
    "execution": {
     "iopub.execute_input": "2024-02-23T10:25:33.209808Z",
     "iopub.status.busy": "2024-02-23T10:25:33.209344Z",
     "iopub.status.idle": "2024-02-23T10:25:33.214273Z",
     "shell.execute_reply": "2024-02-23T10:25:33.213593Z"
    }
   },
   "outputs": [
    {
     "name": "stdout",
     "output_type": "stream",
     "text": [
      "AngularMomentum is in problem.properties: False\n",
      "Adding AngularMomentum to problem.properties...\n",
      "AngularMomentum is in problem.properties: True\n",
      "Discarding AngularMomentum from problem.properties...\n",
      "AngularMomentum is in problem.properties: False\n"
     ]
    }
   ],
   "source": [
    "from qiskit_nature.second_q.properties import AngularMomentum\n",
    "\n",
    "print(\"AngularMomentum is in problem.properties:\", AngularMomentum in base_problem.properties)\n",
    "\n",
    "print(\"Adding AngularMomentum to problem.properties...\")\n",
    "base_problem.properties.add(AngularMomentum(2))\n",
    "\n",
    "print(\"AngularMomentum is in problem.properties:\", AngularMomentum in base_problem.properties)\n",
    "\n",
    "print(\"Discarding AngularMomentum from problem.properties...\")\n",
    "base_problem.properties.discard(AngularMomentum)\n",
    "\n",
    "print(\"AngularMomentum is in problem.properties:\", AngularMomentum in base_problem.properties)"
   ]
  },
  {
   "cell_type": "markdown",
   "id": "4b72239b",
   "metadata": {},
   "source": [
    "The specific subclasses of `BaseProblem` for the various stacks such as [electronic structure](01_electronic_structure.ipynb), [vibrational structure](02_vibrational_structure.ipynb) or [lattice models](10_lattice_models.ipynb) make things even simpler for you, because they provide direct attributes for the built-in properties of Qiskit Nature:"
   ]
  },
  {
   "cell_type": "code",
   "execution_count": 3,
   "id": "6c251832",
   "metadata": {
    "execution": {
     "iopub.execute_input": "2024-02-23T10:25:33.216954Z",
     "iopub.status.busy": "2024-02-23T10:25:33.216441Z",
     "iopub.status.idle": "2024-02-23T10:25:33.337263Z",
     "shell.execute_reply": "2024-02-23T10:25:33.336454Z"
    },
    "scrolled": true
   },
   "outputs": [
    {
     "name": "stdout",
     "output_type": "stream",
     "text": [
      "<qiskit_nature.second_q.properties.particle_number.ParticleNumber object at 0x7f92791cb190>\n",
      "<qiskit_nature.second_q.properties.angular_momentum.AngularMomentum object at 0x7f92791cb340>\n",
      "<qiskit_nature.second_q.properties.magnetization.Magnetization object at 0x7f92791cb1f0>\n",
      "<qiskit_nature.second_q.properties.dipole_moment.ElectronicDipoleMoment object at 0x7f92791cb070>\n",
      "None\n"
     ]
    }
   ],
   "source": [
    "from qiskit_nature.second_q.drivers import PySCFDriver\n",
    "\n",
    "es_problem = PySCFDriver().run()\n",
    "\n",
    "print(es_problem.properties.particle_number)\n",
    "print(es_problem.properties.angular_momentum)\n",
    "print(es_problem.properties.magnetization)\n",
    "print(es_problem.properties.electronic_dipole_moment)\n",
    "print(es_problem.properties.electronic_density)"
   ]
  },
  {
   "cell_type": "markdown",
   "id": "e4d31d28",
   "metadata": {},
   "source": [
    "> Note that the `ElectronicDipoleMoment` is populated by default. To exclude it, you can use the drivers `to_problem()` method and provide the `include_dipole=False` keyword argument. Refer to the drivers documentation for more details."
   ]
  },
  {
   "cell_type": "markdown",
   "id": "4dca06da",
   "metadata": {},
   "source": [
    "You can see, that all properties come pre-populated except for the `ElectronicDensity`. But this is easy to add:"
   ]
  },
  {
   "cell_type": "code",
   "execution_count": 4,
   "id": "a6d0dd11",
   "metadata": {
    "execution": {
     "iopub.execute_input": "2024-02-23T10:25:33.340644Z",
     "iopub.status.busy": "2024-02-23T10:25:33.340384Z",
     "iopub.status.idle": "2024-02-23T10:25:33.344364Z",
     "shell.execute_reply": "2024-02-23T10:25:33.343806Z"
    }
   },
   "outputs": [],
   "source": [
    "from qiskit_nature.second_q.properties import ElectronicDensity\n",
    "\n",
    "density = ElectronicDensity.from_orbital_occupation(\n",
    "    es_problem.orbital_occupations,\n",
    "    es_problem.orbital_occupations_b,\n",
    ")\n",
    "\n",
    "es_problem.properties.electronic_density = density"
   ]
  },
  {
   "cell_type": "markdown",
   "id": "44893a7d",
   "metadata": {},
   "source": [
    "The same concepts apply to the `VibrationalStructureProblem` and the `LatticeModelProblem`."
   ]
  },
  {
   "cell_type": "code",
   "execution_count": 5,
   "id": "7d02742f",
   "metadata": {
    "execution": {
     "iopub.execute_input": "2024-02-23T10:25:33.346615Z",
     "iopub.status.busy": "2024-02-23T10:25:33.346411Z",
     "iopub.status.idle": "2024-02-23T10:25:33.355900Z",
     "shell.execute_reply": "2024-02-23T10:25:33.355216Z"
    }
   },
   "outputs": [
    {
     "data": {
      "text/html": [
       "<h3>Version Information</h3><table><tr><th>Software</th><th>Version</th></tr><tr><td><code>qiskit</code></td><td>1.0.1</td></tr><tr><td><code>qiskit_algorithms</code></td><td>0.3.0</td></tr><tr><td><code>qiskit_nature</code></td><td>0.7.2</td></tr><tr><th colspan='2'>System information</th></tr><tr><td>Python version</td><td>3.8.18</td></tr><tr><td>OS</td><td>Linux</td></tr><tr><td colspan='2'>Fri Feb 23 10:25:33 2024 UTC</td></tr></table>"
      ],
      "text/plain": [
       "<IPython.core.display.HTML object>"
      ]
     },
     "metadata": {},
     "output_type": "display_data"
    },
    {
     "data": {
      "text/html": [
       "<div style='width: 100%; background-color:#d5d9e0;padding-left: 10px; padding-bottom: 10px; padding-right: 10px; padding-top: 5px'><h3>This code is a part of a Qiskit project</h3><p>&copy; Copyright IBM 2017, 2024.</p><p>This code is licensed under the Apache License, Version 2.0. You may<br>obtain a copy of this license in the LICENSE.txt file in the root directory<br> of this source tree or at http://www.apache.org/licenses/LICENSE-2.0.<p>Any modifications or derivative works of this code must retain this<br>copyright notice, and modified files need to carry a notice indicating<br>that they have been altered from the originals.</p></div>"
      ],
      "text/plain": [
       "<IPython.core.display.HTML object>"
      ]
     },
     "metadata": {},
     "output_type": "display_data"
    }
   ],
   "source": [
    "import tutorial_magics\n",
    "\n",
    "%qiskit_version_table\n",
    "%qiskit_copyright"
   ]
  }
 ],
 "metadata": {
  "kernelspec": {
   "display_name": "Python 3",
   "language": "python",
   "name": "python3"
  },
  "language_info": {
   "codemirror_mode": {
    "name": "ipython",
    "version": 3
   },
   "file_extension": ".py",
   "mimetype": "text/x-python",
   "name": "python",
   "nbconvert_exporter": "python",
   "pygments_lexer": "ipython3",
   "version": "3.8.18"
  }
 },
 "nbformat": 4,
 "nbformat_minor": 5
}
