{
 "cells": [
  {
   "cell_type": "markdown",
   "id": "5bac463c",
   "metadata": {},
   "source": [
    "# Transforming Problems\n",
    "\n",
    "This tutorial explains the various problem transformers available in Qiskit Nature.\n",
    "\n",
    "> **Note:** Currently, Qiskit Nature only has transformers which work with electronic structure problems."
   ]
  },
  {
   "cell_type": "markdown",
   "id": "f90b6ed9",
   "metadata": {},
   "source": [
    "## The `BasisTransformer`\n",
    "\n",
    "This transformer allows you to transform an `ElectronicStructureProblem` from one basis into another.\n",
    "This is useful in certain settings such as:\n",
    "- when you obtained a problem description or the Hamiltonian coefficients in the AO basis from an external source\n",
    "- when you explicitly generated the problem in the AO basis to modify it manually before transforming into the MO basis\n",
    "- etc.\n",
    "\n",
    "Since we can achieve the second scenario directly using Qiskit Nature, that is what we will be doing here. To learn more about how to do this, we recommend that you read the tutorial on the [`QCSchema`](08_qcschema.ipynb)."
   ]
  },
  {
   "cell_type": "markdown",
   "id": "8c8452ac",
   "metadata": {},
   "source": [
    "First, we create a problem in the `AO` basis in order to demonstrate the basis transformation:"
   ]
  },
  {
   "cell_type": "code",
   "execution_count": 1,
   "id": "a4942c8f",
   "metadata": {
    "execution": {
     "iopub.execute_input": "2024-02-19T16:59:05.741009Z",
     "iopub.status.busy": "2024-02-19T16:59:05.740806Z",
     "iopub.status.idle": "2024-02-19T16:59:07.114445Z",
     "shell.execute_reply": "2024-02-19T16:59:07.113726Z"
    }
   },
   "outputs": [
    {
     "name": "stderr",
     "output_type": "stream",
     "text": [
      "The provided alpha-beta overlap matrix is NOT unitary! This can happen when the alpha- and beta-spin orbitals do not span the same space. To provide an example of what this means, consider an active space chosen from unrestricted-spin orbitals. Computing <S^2> within this active space may not result in the same <S^2> value as obtained on the single-reference starting point. More importantly, this implies that the inactive subspace will account for the difference between these two <S^2> values, possibly resulting in significant spin contamination in both subspaces. You should verify whether this is intentional/acceptable or whether your choice of active space can be improved. As a reference, here is the summed-absolute deviation of `S^T @ S` from the identity: 7.064215023495638\n"
     ]
    },
    {
     "name": "stdout",
     "output_type": "stream",
     "text": [
      "ElectronicBasis.AO\n",
      "Polynomial Tensor\n",
      " \"+-\":\n",
      "array([[-1.12421758, -0.9652574 ],\n",
      "       [-0.9652574 , -1.12421758]])\n",
      " \"++--\":\n",
      "array([0.77460594, 0.44744572, 0.3009177 , 0.57187698, 0.44744572,\n",
      "       0.77460594])\n"
     ]
    }
   ],
   "source": [
    "from qiskit_nature.second_q.drivers import PySCFDriver\n",
    "from qiskit_nature.second_q.problems import ElectronicBasis\n",
    "\n",
    "driver = PySCFDriver()\n",
    "driver.run_pyscf()\n",
    "\n",
    "ao_problem = driver.to_problem(basis=ElectronicBasis.AO)\n",
    "print(ao_problem.basis)\n",
    "\n",
    "ao_hamil = ao_problem.hamiltonian\n",
    "print(ao_hamil.electronic_integrals.alpha)"
   ]
  },
  {
   "cell_type": "markdown",
   "id": "52377257",
   "metadata": {},
   "source": [
    "Next, we obtain the `AO` to `MO` transformer:"
   ]
  },
  {
   "cell_type": "code",
   "execution_count": 2,
   "id": "afe99e12",
   "metadata": {
    "execution": {
     "iopub.execute_input": "2024-02-19T16:59:07.117901Z",
     "iopub.status.busy": "2024-02-19T16:59:07.117497Z",
     "iopub.status.idle": "2024-02-19T16:59:07.130056Z",
     "shell.execute_reply": "2024-02-19T16:59:07.129443Z"
    }
   },
   "outputs": [
    {
     "name": "stdout",
     "output_type": "stream",
     "text": [
      "ElectronicBasis.AO\n",
      "ElectronicBasis.MO\n"
     ]
    }
   ],
   "source": [
    "from qiskit_nature.second_q.formats.qcschema_translator import get_ao_to_mo_from_qcschema\n",
    "\n",
    "qcschema = driver.to_qcschema()\n",
    "\n",
    "basis_transformer = get_ao_to_mo_from_qcschema(qcschema)\n",
    "print(basis_transformer.initial_basis)\n",
    "print(basis_transformer.final_basis)"
   ]
  },
  {
   "cell_type": "markdown",
   "id": "325220b1",
   "metadata": {},
   "source": [
    "And finally, we can use the transformer to obtain the problem in the `MO` basis:"
   ]
  },
  {
   "cell_type": "code",
   "execution_count": 3,
   "id": "f28441fc",
   "metadata": {
    "execution": {
     "iopub.execute_input": "2024-02-19T16:59:07.133334Z",
     "iopub.status.busy": "2024-02-19T16:59:07.133109Z",
     "iopub.status.idle": "2024-02-19T16:59:07.140345Z",
     "shell.execute_reply": "2024-02-19T16:59:07.139663Z"
    }
   },
   "outputs": [
    {
     "name": "stdout",
     "output_type": "stream",
     "text": [
      "ElectronicBasis.MO\n",
      "Polynomial Tensor\n",
      " \"+-\":\n",
      "array([[-1.25633907e+00, -1.37083854e-17],\n",
      "       [-6.07732712e-17, -4.71896007e-01]])\n",
      " \"++--\":\n",
      "array([[[[6.75710155e-01, 1.56722377e-16],\n",
      "         [1.03976181e-16, 6.64581730e-01]],\n",
      "\n",
      "        [[1.55375654e-16, 1.80931200e-01],\n",
      "         [1.80931200e-01, 4.63164127e-16]]],\n",
      "\n",
      "\n",
      "       [[[5.98074319e-17, 1.80931200e-01],\n",
      "         [1.80931200e-01, 2.60271871e-16]],\n",
      "\n",
      "        [[6.64581730e-01, 2.69194871e-16],\n",
      "         [3.78920172e-16, 6.98573723e-01]]]])\n"
     ]
    }
   ],
   "source": [
    "mo_problem = basis_transformer.transform(ao_problem)\n",
    "print(mo_problem.basis)\n",
    "\n",
    "mo_hamil = mo_problem.hamiltonian\n",
    "print(mo_hamil.electronic_integrals.alpha)"
   ]
  },
  {
   "cell_type": "markdown",
   "id": "c90aa467",
   "metadata": {},
   "source": [
    "If you need to construct your `BasisTransformer` manually, you can do this like so:"
   ]
  },
  {
   "cell_type": "code",
   "execution_count": 4,
   "id": "6cea99d6",
   "metadata": {
    "execution": {
     "iopub.execute_input": "2024-02-19T16:59:07.142884Z",
     "iopub.status.busy": "2024-02-19T16:59:07.142495Z",
     "iopub.status.idle": "2024-02-19T16:59:07.146729Z",
     "shell.execute_reply": "2024-02-19T16:59:07.146168Z"
    }
   },
   "outputs": [],
   "source": [
    "import numpy as np\n",
    "from qiskit_nature.second_q.operators import ElectronicIntegrals\n",
    "from qiskit_nature.second_q.problems import ElectronicBasis\n",
    "from qiskit_nature.second_q.transformers import BasisTransformer\n",
    "\n",
    "ao2mo_alpha = np.random.random((2, 2))\n",
    "ao2mo_beta = np.random.random((2, 2))\n",
    "\n",
    "basis_transformer = BasisTransformer(\n",
    "    ElectronicBasis.AO,\n",
    "    ElectronicBasis.MO,\n",
    "    ElectronicIntegrals.from_raw_integrals(ao2mo_alpha, h1_b=ao2mo_beta),\n",
    ")"
   ]
  },
  {
   "cell_type": "markdown",
   "id": "17922900",
   "metadata": {},
   "source": [
    "## The `FreezeCoreTransformer`\n",
    "\n",
    "This transformer provides you with the very simple means to freeze the _core orbitals_ of your molecular system. It requires your problem to contain the `.molecule` attribute from which it can extract the atomic information necessary to perform this Hilbert space reduction."
   ]
  },
  {
   "cell_type": "code",
   "execution_count": 5,
   "id": "4a85694a",
   "metadata": {
    "execution": {
     "iopub.execute_input": "2024-02-19T16:59:07.149298Z",
     "iopub.status.busy": "2024-02-19T16:59:07.148922Z",
     "iopub.status.idle": "2024-02-19T16:59:07.548110Z",
     "shell.execute_reply": "2024-02-19T16:59:07.547454Z"
    }
   },
   "outputs": [
    {
     "name": "stdout",
     "output_type": "stream",
     "text": [
      "Molecule:\n",
      "\tMultiplicity: 1\n",
      "\tCharge: 0\n",
      "\tUnit: Bohr\n",
      "\tGeometry:\n",
      "\t\tLi\t(0.0, 0.0, 0.0)\n",
      "\t\tH\t(0.0, 0.0, 2.8345891868475928)\n",
      "\tMasses:\n",
      "\t\tLi\t7\n",
      "\t\tH\t1\n",
      "(2, 2)\n",
      "6\n"
     ]
    }
   ],
   "source": [
    "from qiskit_nature.second_q.drivers import PySCFDriver\n",
    "\n",
    "driver = PySCFDriver(atom=\"Li 0 0 0; H 0 0 1.5\")\n",
    "\n",
    "full_problem = driver.run()\n",
    "print(full_problem.molecule)\n",
    "print(full_problem.num_particles)\n",
    "print(full_problem.num_spatial_orbitals)"
   ]
  },
  {
   "cell_type": "markdown",
   "id": "685dbb59",
   "metadata": {},
   "source": [
    "In the following, we apply the `FreezeCoreTransformer` which in this case will remove the single lowest energy orbital (reducing the total number of spatial orbitals from 6 to 5) and also removing the two electrons from within that orbital (as reflected by the changed number of particles)."
   ]
  },
  {
   "cell_type": "code",
   "execution_count": null,
   "id": "01d77f83",
   "metadata": {},
   "outputs": [],
   "source": []
  },
  {
   "cell_type": "code",
   "execution_count": 6,
   "id": "9a37235a",
   "metadata": {
    "execution": {
     "iopub.execute_input": "2024-02-19T16:59:07.551148Z",
     "iopub.status.busy": "2024-02-19T16:59:07.550917Z",
     "iopub.status.idle": "2024-02-19T16:59:07.564424Z",
     "shell.execute_reply": "2024-02-19T16:59:07.563768Z"
    }
   },
   "outputs": [
    {
     "name": "stdout",
     "output_type": "stream",
     "text": [
      "(1, 1)\n",
      "5\n"
     ]
    }
   ],
   "source": [
    "from qiskit_nature.second_q.transformers import FreezeCoreTransformer\n",
    "\n",
    "fc_transformer = FreezeCoreTransformer()\n",
    "\n",
    "fc_problem = fc_transformer.transform(full_problem)\n",
    "print(fc_problem.num_particles)\n",
    "print(fc_problem.num_spatial_orbitals)"
   ]
  },
  {
   "cell_type": "markdown",
   "id": "24369906",
   "metadata": {},
   "source": [
    "Note, that this transformation will result in a constant energy offset resulting from the removal of the core electrons. This offset is registered inside of the hamiltonian's `constants` attribute, which you can inspect like shown below:"
   ]
  },
  {
   "cell_type": "code",
   "execution_count": 7,
   "id": "82446408",
   "metadata": {
    "execution": {
     "iopub.execute_input": "2024-02-19T16:59:07.567083Z",
     "iopub.status.busy": "2024-02-19T16:59:07.566590Z",
     "iopub.status.idle": "2024-02-19T16:59:07.570046Z",
     "shell.execute_reply": "2024-02-19T16:59:07.569371Z"
    }
   },
   "outputs": [
    {
     "name": "stdout",
     "output_type": "stream",
     "text": [
      "{'nuclear_repulsion_energy': 1.05835442184, 'FreezeCoreTransformer': -7.84030604879426}\n"
     ]
    }
   ],
   "source": [
    "print(fc_problem.hamiltonian.constants)"
   ]
  },
  {
   "cell_type": "markdown",
   "id": "92863022",
   "metadata": {},
   "source": [
    "Furthermore, you can provide a list of orbital indices (0-based) which are to be removed from the system.\n",
    "\n",
    "> **Note:** these orbitals *must* be unoccupied, otherwise you will incur a large error in your computation (even if they are unoccupied you should know which orbitals you are removing, because removing the wrong ones can still incur large errors if the systems dynamics are altered significantly). No guards are in place to check that the provided orbital indices are indeed unoccupied, so this is up to you!"
   ]
  },
  {
   "cell_type": "code",
   "execution_count": 8,
   "id": "a13e42db",
   "metadata": {
    "execution": {
     "iopub.execute_input": "2024-02-19T16:59:07.572598Z",
     "iopub.status.busy": "2024-02-19T16:59:07.572408Z",
     "iopub.status.idle": "2024-02-19T16:59:07.584542Z",
     "shell.execute_reply": "2024-02-19T16:59:07.584021Z"
    }
   },
   "outputs": [
    {
     "name": "stdout",
     "output_type": "stream",
     "text": [
      "(1, 1)\n",
      "3\n"
     ]
    }
   ],
   "source": [
    "fc_transformer = FreezeCoreTransformer(remove_orbitals=[4, 5])\n",
    "\n",
    "fc_problem = fc_transformer.transform(full_problem)\n",
    "print(fc_problem.num_particles)\n",
    "print(fc_problem.num_spatial_orbitals)"
   ]
  },
  {
   "cell_type": "markdown",
   "id": "fb5ab38f",
   "metadata": {},
   "source": [
    "## The `ActiveSpaceTransformer`\n",
    "\n",
    "This transformer generalizes the Hilbert space reduction which is performed by the `FreezeCoreTransformer`. Simply put, it allows you to specify an _active space_ by selecting the number of active electrons and the number of active spatial orbitals. According to these settings, the active space will be chosen around the Fermi level."
   ]
  },
  {
   "cell_type": "code",
   "execution_count": 9,
   "id": "fc5680f5",
   "metadata": {
    "execution": {
     "iopub.execute_input": "2024-02-19T16:59:07.586819Z",
     "iopub.status.busy": "2024-02-19T16:59:07.586616Z",
     "iopub.status.idle": "2024-02-19T16:59:07.969210Z",
     "shell.execute_reply": "2024-02-19T16:59:07.968466Z"
    }
   },
   "outputs": [
    {
     "name": "stdout",
     "output_type": "stream",
     "text": [
      "(2, 2)\n",
      "6\n"
     ]
    }
   ],
   "source": [
    "from qiskit_nature.second_q.drivers import PySCFDriver\n",
    "\n",
    "driver = PySCFDriver(atom=\"Li 0 0 0; H 0 0 1.5\")\n",
    "\n",
    "full_problem = driver.run()\n",
    "print(full_problem.num_particles)\n",
    "print(full_problem.num_spatial_orbitals)"
   ]
  },
  {
   "cell_type": "code",
   "execution_count": 10,
   "id": "46d28748",
   "metadata": {
    "execution": {
     "iopub.execute_input": "2024-02-19T16:59:07.973903Z",
     "iopub.status.busy": "2024-02-19T16:59:07.972785Z",
     "iopub.status.idle": "2024-02-19T16:59:07.987860Z",
     "shell.execute_reply": "2024-02-19T16:59:07.987056Z"
    }
   },
   "outputs": [
    {
     "name": "stdout",
     "output_type": "stream",
     "text": [
      "(1, 1)\n",
      "2\n",
      "Polynomial Tensor\n",
      " \"+-\":\n",
      "array([[-0.78784474,  0.0469345 ],\n",
      "       [ 0.0469345 , -0.36211749]])\n",
      " \"++--\":\n",
      "array([[[[ 0.49428349, -0.0469345 ],\n",
      "         [-0.0469345 ,  0.22662427]],\n",
      "\n",
      "        [[-0.0469345 ,  0.01213863],\n",
      "         [ 0.01213863,  0.00616268]]],\n",
      "\n",
      "\n",
      "       [[[-0.0469345 ,  0.01213863],\n",
      "         [ 0.01213863,  0.00616268]],\n",
      "\n",
      "        [[ 0.22662427,  0.00616268],\n",
      "         [ 0.00616268,  0.33881567]]]])\n"
     ]
    }
   ],
   "source": [
    "from qiskit_nature.second_q.transformers import ActiveSpaceTransformer\n",
    "\n",
    "as_transformer = ActiveSpaceTransformer(2, 2)\n",
    "\n",
    "as_problem = as_transformer.transform(full_problem)\n",
    "print(as_problem.num_particles)\n",
    "print(as_problem.num_spatial_orbitals)\n",
    "print(as_problem.hamiltonian.electronic_integrals.alpha)"
   ]
  },
  {
   "cell_type": "markdown",
   "id": "4e1ae8e3",
   "metadata": {},
   "source": [
    "The `ActiveSpaceTransformer` in Qiskit Nature has one more trick up its sleeve because it even allows you to manually specify the indices of the active orbitals. This enables you to hand-pick active spaces which do not lie continuously around the Fermi level."
   ]
  },
  {
   "cell_type": "code",
   "execution_count": 11,
   "id": "9079ed1b",
   "metadata": {
    "execution": {
     "iopub.execute_input": "2024-02-19T16:59:07.990844Z",
     "iopub.status.busy": "2024-02-19T16:59:07.990341Z",
     "iopub.status.idle": "2024-02-19T16:59:08.004754Z",
     "shell.execute_reply": "2024-02-19T16:59:08.003914Z"
    }
   },
   "outputs": [
    {
     "name": "stdout",
     "output_type": "stream",
     "text": [
      "(1, 1)\n",
      "2\n",
      "Polynomial Tensor\n",
      " \"+-\":\n",
      "array([[-4.00500243e+00,  9.58779845e-18],\n",
      "       [ 9.58779845e-18, -6.19047188e-01]])\n",
      " \"++--\":\n",
      "array([[[[ 1.65816678e+00, -1.37621900e-17],\n",
      "         [-1.37621900e-17,  3.96308164e-01]],\n",
      "\n",
      "        [[-1.37621900e-17,  9.81922731e-03],\n",
      "         [ 9.81922731e-03,  2.35828133e-18]]],\n",
      "\n",
      "\n",
      "       [[[-1.37621900e-17,  9.81922731e-03],\n",
      "         [ 9.81922731e-03,  2.35828133e-18]],\n",
      "\n",
      "        [[ 3.96308164e-01,  2.35828133e-18],\n",
      "         [ 2.35828133e-18,  3.12945511e-01]]]])\n"
     ]
    }
   ],
   "source": [
    "as_transformer = ActiveSpaceTransformer(2, 2, active_orbitals=[0, 4])\n",
    "\n",
    "as_problem = as_transformer.transform(full_problem)\n",
    "print(as_problem.num_particles)\n",
    "print(as_problem.num_spatial_orbitals)\n",
    "print(as_problem.hamiltonian.electronic_integrals.alpha)"
   ]
  },
  {
   "cell_type": "code",
   "execution_count": 12,
   "id": "255a9aac",
   "metadata": {
    "execution": {
     "iopub.execute_input": "2024-02-19T16:59:08.007611Z",
     "iopub.status.busy": "2024-02-19T16:59:08.007097Z",
     "iopub.status.idle": "2024-02-19T16:59:08.016602Z",
     "shell.execute_reply": "2024-02-19T16:59:08.015954Z"
    }
   },
   "outputs": [
    {
     "data": {
      "text/html": [
       "<h3>Version Information</h3><table><tr><th>Software</th><th>Version</th></tr><tr><td><code>qiskit</code></td><td>1.0.0</td></tr><tr><td><code>qiskit_nature</code></td><td>0.7.1</td></tr><tr><td><code>qiskit_algorithms</code></td><td>0.3.0</td></tr><tr><th colspan='2'>System information</th></tr><tr><td>Python version</td><td>3.8.18</td></tr><tr><td>OS</td><td>Linux</td></tr><tr><td colspan='2'>Mon Feb 19 16:59:08 2024 UTC</td></tr></table>"
      ],
      "text/plain": [
       "<IPython.core.display.HTML object>"
      ]
     },
     "metadata": {},
     "output_type": "display_data"
    },
    {
     "data": {
      "text/html": [
       "<div style='width: 100%; background-color:#d5d9e0;padding-left: 10px; padding-bottom: 10px; padding-right: 10px; padding-top: 5px'><h3>This code is a part of a Qiskit project</h3><p>&copy; Copyright IBM 2017, 2024.</p><p>This code is licensed under the Apache License, Version 2.0. You may<br>obtain a copy of this license in the LICENSE.txt file in the root directory<br> of this source tree or at http://www.apache.org/licenses/LICENSE-2.0.<p>Any modifications or derivative works of this code must retain this<br>copyright notice, and modified files need to carry a notice indicating<br>that they have been altered from the originals.</p></div>"
      ],
      "text/plain": [
       "<IPython.core.display.HTML object>"
      ]
     },
     "metadata": {},
     "output_type": "display_data"
    }
   ],
   "source": [
    "import tutorial_magics\n",
    "\n",
    "%qiskit_version_table\n",
    "%qiskit_copyright"
   ]
  }
 ],
 "metadata": {
  "kernelspec": {
   "display_name": "Python 3",
   "language": "python",
   "name": "python3"
  },
  "language_info": {
   "codemirror_mode": {
    "name": "ipython",
    "version": 3
   },
   "file_extension": ".py",
   "mimetype": "text/x-python",
   "name": "python",
   "nbconvert_exporter": "python",
   "pygments_lexer": "ipython3",
   "version": "3.8.18"
  }
 },
 "nbformat": 4,
 "nbformat_minor": 5
}
