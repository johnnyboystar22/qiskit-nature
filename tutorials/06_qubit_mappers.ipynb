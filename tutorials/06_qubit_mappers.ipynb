{
 "cells": [
  {
   "cell_type": "markdown",
   "id": "24c04a2a",
   "metadata": {},
   "source": [
    "# Mapping to the Qubit Space\n",
    "\n",
    "The problems and operators with which you interact in Qiskit Nature (usually) need to be mapped into the qubit space before they can be solved with our quantum algorithms. This task is handled by the various `QubitMapper` classes.\n",
    "\n",
    "In this tutorial, you will learn about the various options available to you."
   ]
  },
  {
   "cell_type": "markdown",
   "id": "03e6fc8d",
   "metadata": {},
   "source": [
    "## Fermionic Mappers\n",
    "\n",
    "This section deals with fermionic mappers, which transform fermionic operators into the qubit space.\n",
    "This is mostly used by the [electronic structure stack](01_electronic_structure.ipynb) but also finds application for the [`FermiHubbardModel`](TODO).\n",
    "\n",
    "There exist different mapping types with different properties. Qiskit Nature already supports the following fermionic mappings:\n",
    "\n",
    "* Jordan-Wigner (Zeitschrift für Physik, 47, 631-651 (1928))\n",
    "* Parity (The Journal of chemical physics, 137(22), 224109 (2012))\n",
    "* Bravyi-Kitaev (Annals of Physics, 298(1), 210-226 (2002))\n",
    "\n",
    "We will discuss some of these in the following sections. You should learn all the information necessary, to comfortable work with any of the available mappers."
   ]
  },
  {
   "cell_type": "markdown",
   "id": "70e75c4d",
   "metadata": {},
   "source": [
    "In order to discuss the various mappings, we will be using the electronic structure Hamiltonian of the H2 molecule. For more information on how to obtain this, please refer to the [electronic structure tutorial](01_electronic_structure.ipynb)."
   ]
  },
  {
   "cell_type": "code",
   "execution_count": 1,
   "id": "ee2652aa",
   "metadata": {
    "execution": {
     "iopub.execute_input": "2024-02-23T10:25:24.863866Z",
     "iopub.status.busy": "2024-02-23T10:25:24.863665Z",
     "iopub.status.idle": "2024-02-23T10:25:26.161682Z",
     "shell.execute_reply": "2024-02-23T10:25:26.160924Z"
    }
   },
   "outputs": [],
   "source": [
    "from qiskit_nature.second_q.drivers import PySCFDriver\n",
    "\n",
    "driver = PySCFDriver()\n",
    "problem = driver.run()\n",
    "fermionic_op = problem.hamiltonian.second_q_op()"
   ]
  },
  {
   "cell_type": "markdown",
   "id": "59db8061",
   "metadata": {},
   "source": [
    "### The Jordan-Wigner Mapping\n",
    "\n",
    "The Jordan-Wigner mapping is the most straight-forward mapping with the simplest physical interpretation, because it maps the occupation of one spin-orbital to the occupation of one qubit.\n",
    "\n",
    "<img src=\"aux_files/jw_mapping.png\" width=\"500\">\n",
    "\n",
    "You can construct use it like so:"
   ]
  },
  {
   "cell_type": "code",
   "execution_count": 2,
   "id": "1006fe66",
   "metadata": {
    "execution": {
     "iopub.execute_input": "2024-02-23T10:25:26.166436Z",
     "iopub.status.busy": "2024-02-23T10:25:26.165134Z",
     "iopub.status.idle": "2024-02-23T10:25:26.169219Z",
     "shell.execute_reply": "2024-02-23T10:25:26.168651Z"
    }
   },
   "outputs": [],
   "source": [
    "from qiskit_nature.second_q.mappers import JordanWignerMapper\n",
    "\n",
    "mapper = JordanWignerMapper()"
   ]
  },
  {
   "cell_type": "code",
   "execution_count": 3,
   "id": "f93f4e8d",
   "metadata": {
    "execution": {
     "iopub.execute_input": "2024-02-23T10:25:26.171491Z",
     "iopub.status.busy": "2024-02-23T10:25:26.171234Z",
     "iopub.status.idle": "2024-02-23T10:25:26.210878Z",
     "shell.execute_reply": "2024-02-23T10:25:26.210289Z"
    }
   },
   "outputs": [
    {
     "name": "stdout",
     "output_type": "stream",
     "text": [
      "SparsePauliOp(['IIII', 'IIIZ', 'IIZI', 'IIZZ', 'IZII', 'IZIZ', 'ZIII', 'ZIIZ', 'YYYY', 'XXYY', 'YYXX', 'XXXX', 'IZZI', 'ZIZI', 'ZZII'],\n",
      "              coeffs=[-0.81054798+0.j,  0.17218393+0.j, -0.22575349+0.j,  0.12091263+0.j,\n",
      "  0.17218393+0.j,  0.16892754+0.j, -0.22575349+0.j,  0.16614543+0.j,\n",
      "  0.0452328 +0.j,  0.0452328 +0.j,  0.0452328 +0.j,  0.0452328 +0.j,\n",
      "  0.16614543+0.j,  0.17464343+0.j,  0.12091263+0.j])\n"
     ]
    }
   ],
   "source": [
    "qubit_jw_op = mapper.map(fermionic_op)\n",
    "print(qubit_jw_op)"
   ]
  },
  {
   "cell_type": "markdown",
   "id": "75b71e3c",
   "metadata": {},
   "source": [
    "### The Parity Mapping\n",
    "\n",
    "The Parity mapping is the dual mapping to the Jordan-Wigner one, in the sense that it encodes the parity information locally on one qubit, whereas the occupation information is delocalized over all qubits."
   ]
  },
  {
   "cell_type": "code",
   "execution_count": 4,
   "id": "8eb8c042",
   "metadata": {
    "execution": {
     "iopub.execute_input": "2024-02-23T10:25:26.213344Z",
     "iopub.status.busy": "2024-02-23T10:25:26.212947Z",
     "iopub.status.idle": "2024-02-23T10:25:26.216000Z",
     "shell.execute_reply": "2024-02-23T10:25:26.215452Z"
    }
   },
   "outputs": [],
   "source": [
    "from qiskit_nature.second_q.mappers import ParityMapper\n",
    "\n",
    "mapper = ParityMapper()"
   ]
  },
  {
   "cell_type": "code",
   "execution_count": 5,
   "id": "34ff6239",
   "metadata": {
    "execution": {
     "iopub.execute_input": "2024-02-23T10:25:26.218396Z",
     "iopub.status.busy": "2024-02-23T10:25:26.218022Z",
     "iopub.status.idle": "2024-02-23T10:25:26.256900Z",
     "shell.execute_reply": "2024-02-23T10:25:26.256260Z"
    }
   },
   "outputs": [
    {
     "name": "stdout",
     "output_type": "stream",
     "text": [
      "SparsePauliOp(['IIII', 'IIIZ', 'IIZZ', 'IIZI', 'IZZI', 'IZZZ', 'ZZII', 'ZZIZ', 'ZXIX', 'IXZX', 'ZXZX', 'IXIX', 'IZIZ', 'ZZZZ', 'ZIZI'],\n",
      "              coeffs=[-0.81054798+0.j,  0.17218393+0.j, -0.22575349+0.j,  0.12091263+0.j,\n",
      "  0.17218393+0.j,  0.16892754+0.j, -0.22575349+0.j,  0.16614543+0.j,\n",
      "  0.0452328 +0.j, -0.0452328 +0.j, -0.0452328 +0.j,  0.0452328 +0.j,\n",
      "  0.16614543+0.j,  0.17464343+0.j,  0.12091263+0.j])\n"
     ]
    }
   ],
   "source": [
    "qubit_p_op = mapper.map(fermionic_op)\n",
    "print(qubit_p_op)"
   ]
  },
  {
   "cell_type": "markdown",
   "id": "19dd459f",
   "metadata": {},
   "source": [
    "This has one major benefit for the case of problems in which we want to preserve the number of particles of each spin species; it allows us to remove 2 qubits, because the information in them becomes redundant.\n",
    "Since Qiskit Nature arranges the qubits in block-order, such that the first half encodes the alpha-spin, and the second half the beta-spin information, this means we can remove the N/2-th and N-th qubit.\n",
    "\n",
    "To do this, you need to specify the number of particles in your system, like so:"
   ]
  },
  {
   "cell_type": "code",
   "execution_count": 6,
   "id": "7592d0fc",
   "metadata": {
    "execution": {
     "iopub.execute_input": "2024-02-23T10:25:26.259534Z",
     "iopub.status.busy": "2024-02-23T10:25:26.259089Z",
     "iopub.status.idle": "2024-02-23T10:25:26.262318Z",
     "shell.execute_reply": "2024-02-23T10:25:26.261752Z"
    }
   },
   "outputs": [],
   "source": [
    "mapper = ParityMapper(num_particles=problem.num_particles)"
   ]
  },
  {
   "cell_type": "code",
   "execution_count": 7,
   "id": "569a3b78",
   "metadata": {
    "execution": {
     "iopub.execute_input": "2024-02-23T10:25:26.264921Z",
     "iopub.status.busy": "2024-02-23T10:25:26.264513Z",
     "iopub.status.idle": "2024-02-23T10:25:26.304334Z",
     "shell.execute_reply": "2024-02-23T10:25:26.303688Z"
    }
   },
   "outputs": [
    {
     "name": "stdout",
     "output_type": "stream",
     "text": [
      "SparsePauliOp(['II', 'IZ', 'ZI', 'ZZ', 'XX'],\n",
      "              coeffs=[-1.05237325+0.j,  0.39793742+0.j, -0.39793742+0.j, -0.0112801 +0.j,\n",
      "  0.1809312 +0.j])\n"
     ]
    }
   ],
   "source": [
    "qubit_op = mapper.map(fermionic_op)\n",
    "print(qubit_op)"
   ]
  },
  {
   "cell_type": "markdown",
   "id": "2b4b1bec",
   "metadata": {},
   "source": [
    "### More advanced qubit reductions\n",
    "\n",
    "It is also possible to perform more advanced qubit reductions, which are based on finding Z2 symmetries in the Hilbert space of the qubit. A requirement for this to be useful, is that you know in which symmetry-subspace you need to look for your actual solution of interest. This can be a bit tricky, but luckily the problem classes of Qiskit Nature provide you with a utility to automatically determine that correct subspace.\n",
    "\n",
    "Here is how you can use this to your advantage:"
   ]
  },
  {
   "cell_type": "code",
   "execution_count": 8,
   "id": "b435102f",
   "metadata": {
    "execution": {
     "iopub.execute_input": "2024-02-23T10:25:26.307166Z",
     "iopub.status.busy": "2024-02-23T10:25:26.306693Z",
     "iopub.status.idle": "2024-02-23T10:25:26.353851Z",
     "shell.execute_reply": "2024-02-23T10:25:26.353154Z"
    }
   },
   "outputs": [
    {
     "name": "stdout",
     "output_type": "stream",
     "text": [
      "<class 'qiskit_nature.second_q.mappers.tapered_qubit_mapper.TaperedQubitMapper'>\n"
     ]
    }
   ],
   "source": [
    "tapered_mapper = problem.get_tapered_mapper(mapper)\n",
    "print(type(tapered_mapper))"
   ]
  },
  {
   "cell_type": "code",
   "execution_count": 9,
   "id": "4270e7cf",
   "metadata": {
    "execution": {
     "iopub.execute_input": "2024-02-23T10:25:26.356500Z",
     "iopub.status.busy": "2024-02-23T10:25:26.356089Z",
     "iopub.status.idle": "2024-02-23T10:25:26.401896Z",
     "shell.execute_reply": "2024-02-23T10:25:26.401299Z"
    }
   },
   "outputs": [
    {
     "name": "stdout",
     "output_type": "stream",
     "text": [
      "SparsePauliOp(['I', 'Z', 'X'],\n",
      "              coeffs=[-1.04109314+0.j, -0.79587485+0.j, -0.1809312 +0.j])\n"
     ]
    }
   ],
   "source": [
    "qubit_op = tapered_mapper.map(fermionic_op)\n",
    "print(qubit_op)"
   ]
  },
  {
   "cell_type": "markdown",
   "id": "93639c5b",
   "metadata": {},
   "source": [
    "As you can see here, the H2 molecule is such a simple system that we can simulate it entirely on a single qubit!"
   ]
  },
  {
   "cell_type": "markdown",
   "id": "0df25991",
   "metadata": {},
   "source": [
    "### Interleaved ordering\n",
    "\n",
    "As mentioned previously, Qiskit Nature arranges the fermionic spin-up and spin-down parts of the qubit register in block-order. However, sometimes one may want to interleave the registers instead. This can be achieved by means of the `InterleavedQubitMapper`. This can be shown best upon inspection of the `HarteeFock` initial state circuit:"
   ]
  },
  {
   "cell_type": "code",
   "execution_count": 10,
   "id": "c3d27433",
   "metadata": {
    "execution": {
     "iopub.execute_input": "2024-02-23T10:25:26.404498Z",
     "iopub.status.busy": "2024-02-23T10:25:26.404090Z",
     "iopub.status.idle": "2024-02-23T10:25:26.407259Z",
     "shell.execute_reply": "2024-02-23T10:25:26.406688Z"
    }
   },
   "outputs": [],
   "source": [
    "from qiskit_nature.second_q.circuit.library import HartreeFock"
   ]
  },
  {
   "cell_type": "code",
   "execution_count": 11,
   "id": "32570338",
   "metadata": {
    "execution": {
     "iopub.execute_input": "2024-02-23T10:25:26.409737Z",
     "iopub.status.busy": "2024-02-23T10:25:26.409424Z",
     "iopub.status.idle": "2024-02-23T10:25:26.436181Z",
     "shell.execute_reply": "2024-02-23T10:25:26.435489Z"
    }
   },
   "outputs": [
    {
     "data": {
      "text/html": [
       "<pre style=\"word-wrap: normal;white-space: pre;background: #fff0;line-height: 1.1;font-family: &quot;Courier New&quot;,Courier,monospace\">     ┌───┐\n",
       "q_0: ┤ X ├\n",
       "     └───┘\n",
       "q_1: ─────\n",
       "     ┌───┐\n",
       "q_2: ┤ X ├\n",
       "     └───┘\n",
       "q_3: ─────\n",
       "          </pre>"
      ],
      "text/plain": [
       "     ┌───┐\n",
       "q_0: ┤ X ├\n",
       "     └───┘\n",
       "q_1: ─────\n",
       "     ┌───┐\n",
       "q_2: ┤ X ├\n",
       "     └───┘\n",
       "q_3: ─────\n",
       "          "
      ]
     },
     "execution_count": 11,
     "metadata": {},
     "output_type": "execute_result"
    }
   ],
   "source": [
    "hf_state = HartreeFock(2, (1, 1), JordanWignerMapper())\n",
    "hf_state.draw()"
   ]
  },
  {
   "cell_type": "code",
   "execution_count": 12,
   "id": "1df61274",
   "metadata": {
    "execution": {
     "iopub.execute_input": "2024-02-23T10:25:26.438744Z",
     "iopub.status.busy": "2024-02-23T10:25:26.438226Z",
     "iopub.status.idle": "2024-02-23T10:25:26.441404Z",
     "shell.execute_reply": "2024-02-23T10:25:26.440766Z"
    }
   },
   "outputs": [],
   "source": [
    "from qiskit_nature.second_q.mappers import InterleavedQubitMapper"
   ]
  },
  {
   "cell_type": "code",
   "execution_count": 13,
   "id": "98062e44",
   "metadata": {
    "execution": {
     "iopub.execute_input": "2024-02-23T10:25:26.443905Z",
     "iopub.status.busy": "2024-02-23T10:25:26.443556Z",
     "iopub.status.idle": "2024-02-23T10:25:26.446558Z",
     "shell.execute_reply": "2024-02-23T10:25:26.445898Z"
    }
   },
   "outputs": [],
   "source": [
    "interleaved_mapper = InterleavedQubitMapper(JordanWignerMapper())"
   ]
  },
  {
   "cell_type": "code",
   "execution_count": 14,
   "id": "9e7d3e42",
   "metadata": {
    "execution": {
     "iopub.execute_input": "2024-02-23T10:25:26.448933Z",
     "iopub.status.busy": "2024-02-23T10:25:26.448569Z",
     "iopub.status.idle": "2024-02-23T10:25:26.455105Z",
     "shell.execute_reply": "2024-02-23T10:25:26.454425Z"
    }
   },
   "outputs": [
    {
     "data": {
      "text/html": [
       "<pre style=\"word-wrap: normal;white-space: pre;background: #fff0;line-height: 1.1;font-family: &quot;Courier New&quot;,Courier,monospace\">     ┌───┐\n",
       "q_0: ┤ X ├\n",
       "     ├───┤\n",
       "q_1: ┤ X ├\n",
       "     └───┘\n",
       "q_2: ─────\n",
       "          \n",
       "q_3: ─────\n",
       "          </pre>"
      ],
      "text/plain": [
       "     ┌───┐\n",
       "q_0: ┤ X ├\n",
       "     ├───┤\n",
       "q_1: ┤ X ├\n",
       "     └───┘\n",
       "q_2: ─────\n",
       "          \n",
       "q_3: ─────\n",
       "          "
      ]
     },
     "execution_count": 14,
     "metadata": {},
     "output_type": "execute_result"
    }
   ],
   "source": [
    "hf_state = HartreeFock(2, (1, 1), interleaved_mapper)\n",
    "hf_state.draw()"
   ]
  },
  {
   "cell_type": "code",
   "execution_count": 15,
   "id": "503076fb",
   "metadata": {
    "execution": {
     "iopub.execute_input": "2024-02-23T10:25:26.457903Z",
     "iopub.status.busy": "2024-02-23T10:25:26.457507Z",
     "iopub.status.idle": "2024-02-23T10:25:26.464788Z",
     "shell.execute_reply": "2024-02-23T10:25:26.464220Z"
    }
   },
   "outputs": [
    {
     "data": {
      "text/html": [
       "<h3>Version Information</h3><table><tr><th>Software</th><th>Version</th></tr><tr><td><code>qiskit</code></td><td>1.0.1</td></tr><tr><td><code>qiskit_algorithms</code></td><td>0.3.0</td></tr><tr><td><code>qiskit_nature</code></td><td>0.7.2</td></tr><tr><th colspan='2'>System information</th></tr><tr><td>Python version</td><td>3.8.18</td></tr><tr><td>OS</td><td>Linux</td></tr><tr><td colspan='2'>Fri Feb 23 10:25:26 2024 UTC</td></tr></table>"
      ],
      "text/plain": [
       "<IPython.core.display.HTML object>"
      ]
     },
     "metadata": {},
     "output_type": "display_data"
    },
    {
     "data": {
      "text/html": [
       "<div style='width: 100%; background-color:#d5d9e0;padding-left: 10px; padding-bottom: 10px; padding-right: 10px; padding-top: 5px'><h3>This code is a part of a Qiskit project</h3><p>&copy; Copyright IBM 2017, 2024.</p><p>This code is licensed under the Apache License, Version 2.0. You may<br>obtain a copy of this license in the LICENSE.txt file in the root directory<br> of this source tree or at http://www.apache.org/licenses/LICENSE-2.0.<p>Any modifications or derivative works of this code must retain this<br>copyright notice, and modified files need to carry a notice indicating<br>that they have been altered from the originals.</p></div>"
      ],
      "text/plain": [
       "<IPython.core.display.HTML object>"
      ]
     },
     "metadata": {},
     "output_type": "display_data"
    }
   ],
   "source": [
    "import tutorial_magics\n",
    "\n",
    "%qiskit_version_table\n",
    "%qiskit_copyright"
   ]
  }
 ],
 "metadata": {
  "kernelspec": {
   "display_name": "Python 3",
   "language": "python",
   "name": "python3"
  },
  "language_info": {
   "codemirror_mode": {
    "name": "ipython",
    "version": 3
   },
   "file_extension": ".py",
   "mimetype": "text/x-python",
   "name": "python",
   "nbconvert_exporter": "python",
   "pygments_lexer": "ipython3",
   "version": "3.8.18"
  }
 },
 "nbformat": 4,
 "nbformat_minor": 5
}
